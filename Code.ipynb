{
 "cells": [
  {
   "cell_type": "code",
   "execution_count": 1,
   "metadata": {},
   "outputs": [],
   "source": [
    "import pandas as pd\n",
    "\n",
    "#load_data\n",
    "# i got this data from kaggle\n",
    "data_train_path = 'home-data-for-ml-course/train.csv'\n",
    "data_train = pd.read_csv(data_train_path)\n",
    "\n",
    "data_test_path = 'home-data-for-ml-course/test.csv'\n",
    "data_test = pd.read_csv(data_test_path)\n",
    "\n"
   ]
  },
  {
   "cell_type": "code",
   "execution_count": 2,
   "metadata": {},
   "outputs": [],
   "source": [
    "#separate target and features\n",
    "y_data_train= data_train.SalePrice\n",
    "y_data_test_raw = pd.read_csv('home-data-for-ml-course/sample_submission.csv')\n",
    "y_data_test = y_data_test_raw.SalePrice\n",
    "\n",
    "features = ['LotArea', 'YearBuilt', '1stFlrSF', '2ndFlrSF', 'FullBath', 'BedroomAbvGr', 'TotRmsAbvGrd']\n",
    "x_data_train = data_train[features]\n",
    "x_data_test = data_test[features]\n",
    "\n",
    "\n",
    "\n",
    "#drop data with missing values\n",
    "x_data_train = x_data_train.dropna(axis=0)\n",
    "x_data_test = x_data_test.dropna(axis=0)"
   ]
  },
  {
   "cell_type": "code",
   "execution_count": 3,
   "metadata": {},
   "outputs": [],
   "source": [
    "#import library\n",
    "# i'm using random forest for predict model\n",
    "# mean absoulate error for calculate the errors\n",
    "\n",
    "from sklearn.ensemble import RandomForestRegressor\n",
    "from sklearn.metrics import mean_absolute_error"
   ]
  },
  {
   "cell_type": "code",
   "execution_count": 4,
   "metadata": {},
   "outputs": [],
   "source": [
    "#define random forest model\n",
    "rf_model = RandomForestRegressor(random_state=1)\n",
    "rf_model.fit(x_data_train,y_data_train)\n",
    "\n",
    "\n",
    "\n",
    "#take valuation for model prediction\n",
    "rf_model_val = rf_model.predict(x_data_test)\n",
    "rf_model_val_mae = mean_absolute_error(rf_model_val,y_data_test)"
   ]
  },
  {
   "cell_type": "code",
   "execution_count": 5,
   "metadata": {},
   "outputs": [
    {
     "name": "stdout",
     "output_type": "stream",
     "text": [
      "Validation MAE for Random Forest Model: 51,627\n"
     ]
    }
   ],
   "source": [
    "#take a look overall error\n",
    "print(\"Validation MAE for Random Forest Model: {:,.0f}\".format(rf_model_val_mae))"
   ]
  },
  {
   "cell_type": "markdown",
   "metadata": {},
   "source": [
    "And the final result i got 51.627 mean error for predict the house price. it means the different between my model predicts and the actual prices is around $50"
   ]
  },
  {
   "cell_type": "code",
   "execution_count": null,
   "metadata": {},
   "outputs": [],
   "source": []
  }
 ],
 "metadata": {
  "kernelspec": {
   "display_name": "Python 3",
   "language": "python",
   "name": "python3"
  },
  "language_info": {
   "codemirror_mode": {
    "name": "ipython",
    "version": 3
   },
   "file_extension": ".py",
   "mimetype": "text/x-python",
   "name": "python",
   "nbconvert_exporter": "python",
   "pygments_lexer": "ipython3",
   "version": "3.7.4"
  }
 },
 "nbformat": 4,
 "nbformat_minor": 4
}
